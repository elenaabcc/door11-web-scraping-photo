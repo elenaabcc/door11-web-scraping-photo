{
 "cells": [
  {
   "cell_type": "code",
   "execution_count": 22,
   "metadata": {
    "collapsed": true
   },
   "outputs": [
    {
     "data": {
      "text/plain": "                                      collection_url  \\\n0  https://door11.com/mugler-couture-spring-summe...   \n1  https://door11.com/mugler-couture-spring-summe...   \n2  https://door11.com/mugler-couture-spring-summe...   \n3  https://door11.com/mugler-couture-spring-summe...   \n4  https://door11.com/mugler-couture-spring-summe...   \n\n                                           image_url  image_alt  \n0  https://media.door11.com/wp-content/uploads/20...        NaN  \n1  https://media.door11.com/wp-content/uploads/20...        NaN  \n2  https://media.door11.com/wp-content/uploads/20...        NaN  \n3  https://media.door11.com/wp-content/uploads/20...        NaN  \n4  https://media.door11.com/wp-content/uploads/20...        NaN  ",
      "text/html": "<div>\n<style scoped>\n    .dataframe tbody tr th:only-of-type {\n        vertical-align: middle;\n    }\n\n    .dataframe tbody tr th {\n        vertical-align: top;\n    }\n\n    .dataframe thead th {\n        text-align: right;\n    }\n</style>\n<table border=\"1\" class=\"dataframe\">\n  <thead>\n    <tr style=\"text-align: right;\">\n      <th></th>\n      <th>collection_url</th>\n      <th>image_url</th>\n      <th>image_alt</th>\n    </tr>\n  </thead>\n  <tbody>\n    <tr>\n      <th>0</th>\n      <td>https://door11.com/mugler-couture-spring-summe...</td>\n      <td>https://media.door11.com/wp-content/uploads/20...</td>\n      <td>NaN</td>\n    </tr>\n    <tr>\n      <th>1</th>\n      <td>https://door11.com/mugler-couture-spring-summe...</td>\n      <td>https://media.door11.com/wp-content/uploads/20...</td>\n      <td>NaN</td>\n    </tr>\n    <tr>\n      <th>2</th>\n      <td>https://door11.com/mugler-couture-spring-summe...</td>\n      <td>https://media.door11.com/wp-content/uploads/20...</td>\n      <td>NaN</td>\n    </tr>\n    <tr>\n      <th>3</th>\n      <td>https://door11.com/mugler-couture-spring-summe...</td>\n      <td>https://media.door11.com/wp-content/uploads/20...</td>\n      <td>NaN</td>\n    </tr>\n    <tr>\n      <th>4</th>\n      <td>https://door11.com/mugler-couture-spring-summe...</td>\n      <td>https://media.door11.com/wp-content/uploads/20...</td>\n      <td>NaN</td>\n    </tr>\n  </tbody>\n</table>\n</div>"
     },
     "execution_count": 22,
     "metadata": {},
     "output_type": "execute_result"
    }
   ],
   "source": [
    "import pandas as pd\n",
    "\n",
    "# Load collection_urls.csv\n",
    "df = pd.read_csv('collection_images.csv')\n",
    "df.head()"
   ]
  },
  {
   "cell_type": "code",
   "execution_count": 23,
   "outputs": [
    {
     "data": {
      "text/plain": "0"
     },
     "execution_count": 23,
     "metadata": {},
     "output_type": "execute_result"
    }
   ],
   "source": [
    "# Find duplicates\n",
    "df.duplicated().sum()"
   ],
   "metadata": {
    "collapsed": false
   }
  },
  {
   "cell_type": "code",
   "execution_count": 24,
   "outputs": [],
   "source": [
    "# Drop duplicates\n",
    "df.drop_duplicates(inplace=True)"
   ],
   "metadata": {
    "collapsed": false
   }
  },
  {
   "cell_type": "code",
   "execution_count": 19,
   "outputs": [
    {
     "data": {
      "text/plain": "0"
     },
     "execution_count": 19,
     "metadata": {},
     "output_type": "execute_result"
    }
   ],
   "source": [
    "# Find duplicates\n",
    "df.duplicated().sum()"
   ],
   "metadata": {
    "collapsed": false
   }
  },
  {
   "cell_type": "code",
   "execution_count": 20,
   "outputs": [
    {
     "data": {
      "text/plain": "                                      collection_url  \\\n0  https://door11.com/mugler-couture-spring-summe...   \n1  https://door11.com/mugler-couture-spring-summe...   \n2  https://door11.com/mugler-couture-spring-summe...   \n3  https://door11.com/mugler-couture-spring-summe...   \n4  https://door11.com/mugler-couture-spring-summe...   \n\n                                           image_url  image_alt  \n0  https://media.door11.com/wp-content/uploads/20...        NaN  \n1  https://media.door11.com/wp-content/uploads/20...        NaN  \n2  https://media.door11.com/wp-content/uploads/20...        NaN  \n3  https://media.door11.com/wp-content/uploads/20...        NaN  \n4  https://media.door11.com/wp-content/uploads/20...        NaN  ",
      "text/html": "<div>\n<style scoped>\n    .dataframe tbody tr th:only-of-type {\n        vertical-align: middle;\n    }\n\n    .dataframe tbody tr th {\n        vertical-align: top;\n    }\n\n    .dataframe thead th {\n        text-align: right;\n    }\n</style>\n<table border=\"1\" class=\"dataframe\">\n  <thead>\n    <tr style=\"text-align: right;\">\n      <th></th>\n      <th>collection_url</th>\n      <th>image_url</th>\n      <th>image_alt</th>\n    </tr>\n  </thead>\n  <tbody>\n    <tr>\n      <th>0</th>\n      <td>https://door11.com/mugler-couture-spring-summe...</td>\n      <td>https://media.door11.com/wp-content/uploads/20...</td>\n      <td>NaN</td>\n    </tr>\n    <tr>\n      <th>1</th>\n      <td>https://door11.com/mugler-couture-spring-summe...</td>\n      <td>https://media.door11.com/wp-content/uploads/20...</td>\n      <td>NaN</td>\n    </tr>\n    <tr>\n      <th>2</th>\n      <td>https://door11.com/mugler-couture-spring-summe...</td>\n      <td>https://media.door11.com/wp-content/uploads/20...</td>\n      <td>NaN</td>\n    </tr>\n    <tr>\n      <th>3</th>\n      <td>https://door11.com/mugler-couture-spring-summe...</td>\n      <td>https://media.door11.com/wp-content/uploads/20...</td>\n      <td>NaN</td>\n    </tr>\n    <tr>\n      <th>4</th>\n      <td>https://door11.com/mugler-couture-spring-summe...</td>\n      <td>https://media.door11.com/wp-content/uploads/20...</td>\n      <td>NaN</td>\n    </tr>\n  </tbody>\n</table>\n</div>"
     },
     "execution_count": 20,
     "metadata": {},
     "output_type": "execute_result"
    }
   ],
   "source": [
    "df.head()"
   ],
   "metadata": {
    "collapsed": false
   }
  },
  {
   "cell_type": "code",
   "execution_count": 21,
   "outputs": [],
   "source": [
    "# Save to csv\n",
    "df.to_csv('collection_images.csv', index=False)"
   ],
   "metadata": {
    "collapsed": false
   }
  },
  {
   "cell_type": "code",
   "execution_count": 21,
   "outputs": [],
   "source": [],
   "metadata": {
    "collapsed": false
   }
  }
 ],
 "metadata": {
  "kernelspec": {
   "display_name": "Python 3",
   "language": "python",
   "name": "python3"
  },
  "language_info": {
   "codemirror_mode": {
    "name": "ipython",
    "version": 2
   },
   "file_extension": ".py",
   "mimetype": "text/x-python",
   "name": "python",
   "nbconvert_exporter": "python",
   "pygments_lexer": "ipython2",
   "version": "2.7.6"
  }
 },
 "nbformat": 4,
 "nbformat_minor": 0
}
